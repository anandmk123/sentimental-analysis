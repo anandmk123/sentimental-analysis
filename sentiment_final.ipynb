{
  "nbformat": 4,
  "nbformat_minor": 0,
  "metadata": {
    "colab": {
      "name": "sentiment final.ipynb",
      "provenance": [],
      "collapsed_sections": []
    },
    "kernelspec": {
      "name": "python3",
      "display_name": "Python 3"
    }
  },
  "cells": [
    {
      "cell_type": "code",
      "metadata": {
        "id": "20MAA3lRDWyg",
        "colab_type": "code",
        "colab": {}
      },
      "source": [
        ""
      ],
      "execution_count": 0,
      "outputs": []
    },
    {
      "cell_type": "markdown",
      "metadata": {
        "id": "_9v4YP9cDdH4",
        "colab_type": "text"
      },
      "source": [
        "\n",
        "# **Deep Learning for Sentiment Analysis¶**\n",
        "\n",
        "---\n",
        "\n",
        "\n",
        "This notebook aims to provide an example of how a Recurrent Neural Network (RNN) using the Long Short Term Memory (LSTM) architecture can be implemented using Keras(https://keras.io/). Keras is a high-level neural networks API, written in Python and capable of running on top of TensorFlow, CNTK, or Theano. It was developed with a focus on enabling fast experimentation.\n",
        "\n",
        "In this notebook, we have experimented with LSTM to perform sentiment analysis on movie reviews from the Large Movie Review Dataset(http://ai.stanford.edu/~amaas/data/sentiment/), better known as the IMDB dataset.\n",
        "\n",
        "In this task, given a movie review, the model attempts to predict whether it is positive or negative. This is a binary classification task."
      ]
    },
    {
      "cell_type": "code",
      "metadata": {
        "id": "esb1NC2REDhA",
        "colab_type": "code",
        "colab": {}
      },
      "source": [
        "import tensorflow as tf\n",
        "import numpy as np\n",
        "from tensorflow.keras.datasets import imdb\n",
        "from tensorflow.keras.preprocessing import sequence"
      ],
      "execution_count": 0,
      "outputs": []
    },
    {
      "cell_type": "markdown",
      "metadata": {
        "id": "97H_wtF9EQ3i",
        "colab_type": "text"
      },
      "source": [
        "\n",
        "## **Data¶**\n",
        "\n",
        "As previously mentioned, we shall train a LSTM recurrent neural network on the Large Movie Review Dataset dataset.\n",
        "\n",
        "The Large Movie Review Dataset (often referred to as the IMDB dataset) contains 25,000 highly-polar movie reviews (good or bad) for training and the same amount again for testing. The problem is to determine whether a given movie review has a positive or negative sentiment."
      ]
    },
    {
      "cell_type": "code",
      "metadata": {
        "id": "F9v0UQqHFqRP",
        "colab_type": "code",
        "outputId": "eb32f939-f2b4-42a1-db52-36a13dbe7b27",
        "colab": {
          "base_uri": "https://localhost:8080/",
          "height": 52
        }
      },
      "source": [
        "np.random.seed(7)\n",
        "top_words=5000\n",
        "(x_train, y_train), (x_test, y_test)=imdb.load_data(num_words=top_words)"
      ],
      "execution_count": 2,
      "outputs": [
        {
          "output_type": "stream",
          "text": [
            "Downloading data from https://storage.googleapis.com/tensorflow/tf-keras-datasets/imdb.npz\n",
            "17465344/17464789 [==============================] - 0s 0us/step\n"
          ],
          "name": "stdout"
        }
      ]
    },
    {
      "cell_type": "markdown",
      "metadata": {
        "id": "0jpUziG9EteX",
        "colab_type": "text"
      },
      "source": [
        "\n",
        "# **Word Embeddings¶**\n",
        "The vocabulary of words in all the reviews is very large. Mere one-hot encoding of individual words will lead to an extremely sparse dataset.\n",
        "\n",
        "Hence we will use Word Embeddings, a technique where words are encoded as real-valued vectors in a high dimensional space, where the similarity between words in terms of meaning translates to closeness in the vector space. This reduces sparsity of the data, as well as gives more meaning to each word in this embedded space, rather than just present or not.\n",
        "\n",
        "In this notebook we won't have to use Gensim or create an embedding network from scratch. This is another advantage of using Keras. We just include another layer after the input in our model for generating embeddings of the input word! Keras provides a convenient way to convert positive integer representations of words into a word embedding by an Embedding layer.\n",
        "\n",
        "We will map each word onto a 32 length real valued vector. We will also limit the total number of words that we are interested in modeling to the 5000 most frequent words, and zero out the rest. Finally, the sequence length (number of words) in each review varies, so we will constrain each review to be 500 words, truncating long reviews and pad the shorter reviews with zero values."
      ]
    },
    {
      "cell_type": "code",
      "metadata": {
        "id": "jnilJ-9nGlkl",
        "colab_type": "code",
        "colab": {}
      },
      "source": [
        "maxlength=500\n",
        "x_train=sequence.pad_sequences(x_train,maxlen=maxlength)\n",
        "x_test=sequence.pad_sequences(x_test,maxlen=maxlength)"
      ],
      "execution_count": 0,
      "outputs": []
    },
    {
      "cell_type": "markdown",
      "metadata": {
        "id": "m2Jz4O2vFNNf",
        "colab_type": "text"
      },
      "source": [
        "# **LSTM and Convolutional Neural Network with dropout¶**\n",
        "\n",
        "Convolutional neural networks (CNNs) generally excel at learning the spatial structure in input data. Hence they are widely used on data which comprise of highly correlated spatial structures. For example - Images! Images are unstructured data points, where groups of pixels represent a particular structure. Presence or absence of such structures, helps us classify images into particular category.\n",
        "\n",
        "The IMDB review data does have a one-dimensional spatial structure in the sequence of words in reviews and the CNN may be able to pick out invariant features for good and bad sentiment. This learned spatial features may then be learned as sequences by an LSTM layer.\n",
        "\n",
        "Adding a 1-D Convolutional layer followed by Max pooling is elementary in Keras.\n",
        "\n",
        "Here we will add a 1-D Conv layer and max pooling layer after the Embedding layer which then feed the consolidated features to the LSTM. We use a set of 32 feature maps (convolutional filters) with a size of 3x3. The pooling layer can use the standard length of 2 to halve the feature map size."
      ]
    },
    {
      "cell_type": "code",
      "metadata": {
        "id": "8fSfb-MHPOAv",
        "colab_type": "code",
        "outputId": "0e360520-3339-42cd-d615-a5841b066a60",
        "colab": {
          "base_uri": "https://localhost:8080/",
          "height": 364
        }
      },
      "source": [
        "embedding_vector_length=32\n",
        "model=tf.keras.Sequential([\n",
        "                           tf.keras.layers.Embedding(top_words,embedding_vector_length,input_length=maxlength),\n",
        "                           tf.keras.layers.Conv1D(filters=32, kernel_size=3, padding='same', activation='relu'),\n",
        "                           tf.keras.layers.MaxPooling1D(pool_size=2),\n",
        "                           tf.keras.layers.Dropout(0.2),\n",
        "                           tf.keras.layers.LSTM(100,dropout=0.2,recurrent_dropout=0.2),\n",
        "                           tf.keras.layers.Dense(1,activation='sigmoid')\n",
        "                           \n",
        "])\n",
        "model.summary()"
      ],
      "execution_count": 4,
      "outputs": [
        {
          "output_type": "stream",
          "text": [
            "Model: \"sequential\"\n",
            "_________________________________________________________________\n",
            "Layer (type)                 Output Shape              Param #   \n",
            "=================================================================\n",
            "embedding (Embedding)        (None, 500, 32)           160000    \n",
            "_________________________________________________________________\n",
            "conv1d (Conv1D)              (None, 500, 32)           3104      \n",
            "_________________________________________________________________\n",
            "max_pooling1d (MaxPooling1D) (None, 250, 32)           0         \n",
            "_________________________________________________________________\n",
            "dropout (Dropout)            (None, 250, 32)           0         \n",
            "_________________________________________________________________\n",
            "lstm (LSTM)                  (None, 100)               53200     \n",
            "_________________________________________________________________\n",
            "dense (Dense)                (None, 1)                 101       \n",
            "=================================================================\n",
            "Total params: 216,405\n",
            "Trainable params: 216,405\n",
            "Non-trainable params: 0\n",
            "_________________________________________________________________\n"
          ],
          "name": "stdout"
        }
      ]
    },
    {
      "cell_type": "code",
      "metadata": {
        "id": "8yBu0-naQsKW",
        "colab_type": "code",
        "outputId": "d9b7886b-daf7-43a7-f257-f595ce982b19",
        "colab": {
          "base_uri": "https://localhost:8080/",
          "height": 190
        }
      },
      "source": [
        "model.compile(loss='binary_crossentropy',optimizer='adam',metrics=['accuracy'])\n",
        "history=model.fit(x_train,y_train,epochs=5,batch_size=32,validation_split=0.2)"
      ],
      "execution_count": 5,
      "outputs": [
        {
          "output_type": "stream",
          "text": [
            "Epoch 1/5\n",
            "625/625 [==============================] - 246s 393ms/step - loss: 0.4255 - accuracy: 0.7905 - val_loss: 0.3226 - val_accuracy: 0.8628\n",
            "Epoch 2/5\n",
            "625/625 [==============================] - 245s 393ms/step - loss: 0.2553 - accuracy: 0.9009 - val_loss: 0.2793 - val_accuracy: 0.8850\n",
            "Epoch 3/5\n",
            "625/625 [==============================] - 245s 393ms/step - loss: 0.2093 - accuracy: 0.9199 - val_loss: 0.2833 - val_accuracy: 0.8828\n",
            "Epoch 4/5\n",
            "625/625 [==============================] - 246s 393ms/step - loss: 0.1729 - accuracy: 0.9377 - val_loss: 0.3095 - val_accuracy: 0.8800\n",
            "Epoch 5/5\n",
            "625/625 [==============================] - 246s 393ms/step - loss: 0.1534 - accuracy: 0.9436 - val_loss: 0.3497 - val_accuracy: 0.8782\n"
          ],
          "name": "stdout"
        }
      ]
    },
    {
      "cell_type": "code",
      "metadata": {
        "id": "Elvbi-yxCOOP",
        "colab_type": "code",
        "outputId": "aec57243-d990-458e-9819-c0906e60283e",
        "colab": {
          "base_uri": "https://localhost:8080/",
          "height": 541
        }
      },
      "source": [
        "acc=history.history['accuracy']\n",
        "loss=history.history['loss']\n",
        "val_acc=history.history['val_accuracy']\n",
        "val_loss=history.history['val_loss']\n",
        "\n",
        "import matplotlib.pyplot as plt\n",
        "epochs = range(1, 6)\n",
        "\n",
        "plt.plot(epochs, loss, 'y', label = 'Training Loss')\n",
        "plt.plot(epochs, val_loss, 'y', label = 'Validation Loss')\n",
        "plt.xlabel('Epochs')\n",
        "plt.ylabel('Loss')\n",
        "plt.legend()\n",
        "plt.show()\n",
        "\n",
        "plt.plot(epochs, acc, 'c', label = 'Training Accuarcy')\n",
        "plt.plot(epochs, val_acc, 'c', label = 'Validation Accuracy')\n",
        "plt.xlabel('Epochs')\n",
        "plt.ylabel('Accuracy')\n",
        "plt.legend()\n",
        "plt.show()"
      ],
      "execution_count": 6,
      "outputs": [
        {
          "output_type": "display_data",
          "data": {
            "image/png": "[encoded data removed]",
            "text/plain": [
              "<Figure size 432x288 with 1 Axes>"
            ]
          },
          "metadata": {
            "tags": [],
            "needs_background": "light"
          }
        },
        {
          "output_type": "display_data",
          "data": {
            "image/png": "[encoded data removed]",
            "text/plain": [
              "<Figure size 432x288 with 1 Axes>"
            ]
          },
          "metadata": {
            "tags": [],
            "needs_background": "light"
          }
        }
      ]
    },
    {
      "cell_type": "code",
      "metadata": {
        "id": "KpJkjiE6JsJy",
        "colab_type": "code",
        "colab": {
          "base_uri": "https://localhost:8080/",
          "height": 34
        },
        "outputId": "97211e7b-f799-46eb-a0e9-655ab9098dd9"
      },
      "source": [
        "scores = model.evaluate(x_test, y_test, verbose=0)\n",
        "print(\"Accuracy: %.2f%%\" % (scores[1]*100))"
      ],
      "execution_count": 7,
      "outputs": [
        {
          "output_type": "stream",
          "text": [
            "Accuracy: 87.25%\n"
          ],
          "name": "stdout"
        }
      ]
    }
  ]
}